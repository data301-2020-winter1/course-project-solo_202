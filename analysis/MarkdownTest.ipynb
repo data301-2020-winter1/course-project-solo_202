{
 "cells": [
  {
   "cell_type": "markdown",
   "metadata": {},
   "source": [
    "### Testing Markdown\n",
    "**This is bold text**\n",
    "\n",
    "*This is italic text*\n",
    "\n",
    "1. Ordered List 1\n",
    "2. Ordered List 2\n",
    "3. Ordered List 3\n",
    "\n",
    "<code> let variable = 623 </code>\n",
    "\n",
    ">The quick brown fox jumps over the lazy dog"
   ]
  },
  {
   "cell_type": "code",
   "execution_count": null,
   "metadata": {},
   "outputs": [],
   "source": []
  }
 ],
 "metadata": {
  "kernelspec": {
   "display_name": "Python 3",
   "language": "python",
   "name": "python3"
  },
  "language_info": {
   "codemirror_mode": {
    "name": "ipython",
    "version": 3
   },
   "file_extension": ".py",
   "mimetype": "text/x-python",
   "name": "python",
   "nbconvert_exporter": "python",
   "pygments_lexer": "ipython3",
   "version": "3.8.3"
  }
 },
 "nbformat": 4,
 "nbformat_minor": 4
}
